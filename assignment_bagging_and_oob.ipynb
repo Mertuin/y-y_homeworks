{
  "cells": [
    {
      "cell_type": "markdown",
      "metadata": {
        "id": "view-in-github",
        "colab_type": "text"
      },
      "source": [
        "<a href=\"https://colab.research.google.com/github/Mertuin/y-y_homeworks/blob/main/assignment_bagging_and_oob.ipynb\" target=\"_parent\"><img src=\"https://colab.research.google.com/assets/colab-badge.svg\" alt=\"Open In Colab\"/></a>"
      ]
    },
    {
      "cell_type": "markdown",
      "id": "119c9460",
      "metadata": {
        "id": "119c9460"
      },
      "source": [
        "## Home assignment 05: Bagging and OOB score\n",
        "\n",
        "Please, fill the lines in the code below.\n",
        "This is a simplified version of `BaggingRegressor` from `sklearn`. Please, notice, that `sklearn` API is **not preserved**.\n",
        "\n",
        "Your algorithm should be able to train different instances of the same model class on bootstrapped datasets and to provide [OOB score](https://en.wikipedia.org/wiki/Out-of-bag_error) for the training set.\n",
        "\n",
        "The model should be passed as model class with no explicit parameters and no parentheses.\n",
        "\n",
        "Example:\n",
        "```\n",
        "import numpy as np\n",
        "from sklearn.linear_model import LinearRegression\n",
        "\n",
        "bagging_regressor = SimplifiedBaggingRegressor(num_bags=10, oob=True)\n",
        "bagging_regressor.fit(LinearRegression, X, y)\n",
        "\n",
        "```"
      ]
    },
    {
      "cell_type": "code",
      "execution_count": 1,
      "id": "31ecde34",
      "metadata": {
        "id": "31ecde34"
      },
      "outputs": [],
      "source": [
        "import numpy as np"
      ]
    },
    {
      "cell_type": "code",
      "execution_count": 6,
      "id": "06110580",
      "metadata": {
        "id": "06110580"
      },
      "outputs": [],
      "source": [
        "class SimplifiedBaggingRegressor:\n",
        "    def __init__(self, num_bags, oob=False):\n",
        "        self.num_bags = num_bags\n",
        "        self.oob = oob\n",
        "\n",
        "    def _generate_splits(self, data: np.ndarray):\n",
        "        '''\n",
        "        Generate indices for every bag and store in self.indices_list list\n",
        "        '''\n",
        "        self.indices_list = []\n",
        "        data_length = len(data)\n",
        "        for bag in range(self.num_bags):\n",
        "            # Your Code Here\n",
        "            indices = np.random.randint(0,len(data),len(data))\n",
        "            self.indices_list.append(indices)\n",
        "\n",
        "    def fit(self, model_constructor, data, target):\n",
        "        '''\n",
        "        Fit model on every bag.\n",
        "        Model constructor with no parameters (and with no ()) is passed to this function.\n",
        "\n",
        "        example:\n",
        "\n",
        "        bagging_regressor = SimplifiedBaggingRegressor(num_bags=10, oob=True)\n",
        "        bagging_regressor.fit(LinearRegression, X, y)\n",
        "        '''\n",
        "        self.data = None\n",
        "        self.target = None\n",
        "        self._generate_splits(data)\n",
        "        assert len(set(list(map(len, self.indices_list)))) == 1, 'All bags should be of the same length!'\n",
        "        assert list(map(len, self.indices_list))[0] == len(data), 'All bags should contain `len(data)` number of elements!'\n",
        "        self.models_list = []\n",
        "        for bag in range(self.num_bags):\n",
        "            model = model_constructor()\n",
        "            data_bag, target_bag =data[self.indices_list[bag]], target[self.indices_list[bag]] # Your Code Here\n",
        "            self.models_list.append(model.fit(data_bag, target_bag)) # store fitted models here\n",
        "        if self.oob:\n",
        "            self.data = data\n",
        "            self.target = target\n",
        "\n",
        "    def predict(self, data):\n",
        "        '''\n",
        "        Get average prediction for every object from passed dataset\n",
        "        '''\n",
        "        # Your code here\n",
        "        predictions = np.zeros(data.shape)\n",
        "        for pred in range(data.shape[1]):\n",
        "            predictions[:,pred] = self.models_list[pred].predict(data)\n",
        "        return np.mean(predictions, axis =1)\n",
        "\n",
        "    def _get_oob_predictions_from_every_model(self):\n",
        "        '''\n",
        "        Generates list of lists, where list i contains predictions for self.data[i] object\n",
        "        from all models, which have not seen this object during training phase\n",
        "        '''\n",
        "        list_of_predictions_lists = [[] for _ in range(len(self.data))]\n",
        "        # Your Code Here\n",
        "\n",
        "        self.list_of_predictions_lists = np.array(list_of_predictions_lists, dtype=object)\n",
        "\n",
        "    def _get_averaged_oob_predictions(self):\n",
        "        '''\n",
        "        Compute average prediction for every object from training set.\n",
        "        If object has been used in all bags on training phase, return None instead of prediction\n",
        "        '''\n",
        "        self._get_oob_predictions_from_every_model()\n",
        "        self.oob_predictions = 228 # Your Code Here\n",
        "\n",
        "\n",
        "    def OOB_score(self):\n",
        "        '''\n",
        "        Compute mean square error for all objects, which have at least one prediction\n",
        "        '''\n",
        "        self._get_averaged_oob_predictions()\n",
        "        return # Your Code Here"
      ]
    },
    {
      "cell_type": "markdown",
      "id": "5cfa174f",
      "metadata": {
        "id": "5cfa174f"
      },
      "source": [
        "### Local tests:"
      ]
    },
    {
      "cell_type": "code",
      "execution_count": 3,
      "id": "eaa2e710",
      "metadata": {
        "id": "eaa2e710"
      },
      "outputs": [],
      "source": [
        "from sklearn.linear_model import LinearRegression\n",
        "from tqdm.auto import tqdm"
      ]
    },
    {
      "cell_type": "markdown",
      "id": "b54221c2",
      "metadata": {
        "id": "b54221c2"
      },
      "source": [
        "#### Simple tests:"
      ]
    },
    {
      "cell_type": "code",
      "execution_count": 8,
      "id": "84c94a8b",
      "metadata": {
        "colab": {
          "base_uri": "https://localhost:8080/",
          "height": 294,
          "referenced_widgets": [
            "8002570be0e44e0e89964ba0bdaf9a23",
            "ec1689b39b214248888ef4189426d1f7",
            "a1d607fdf63b46bbb3c6936989f5ae14",
            "f0cd1f32c4bb4b1b80971821d5e6f3d8",
            "61f5f5b6911e4486bee313e47bc4934b",
            "97101e3e709d48b48324c14b83c0f6ae",
            "88996036b34a48a98a27bd3d7b25f635",
            "acc3b75b0ed24742b19072ed0a32ce2c",
            "2ea36914497e4d96b8d277ff0a0321e8",
            "b3882c69bbb045fdb6a2b909275da11c",
            "f3e78b09ed2a4719a78b33669ba562e2"
          ]
        },
        "id": "84c94a8b",
        "outputId": "3e544eb7-10f1-4059-af7e-42fb05a276d1"
      },
      "outputs": [
        {
          "output_type": "display_data",
          "data": {
            "text/plain": [
              "  0%|          | 0/100 [00:00<?, ?it/s]"
            ],
            "application/vnd.jupyter.widget-view+json": {
              "version_major": 2,
              "version_minor": 0,
              "model_id": "8002570be0e44e0e89964ba0bdaf9a23"
            }
          },
          "metadata": {}
        },
        {
          "output_type": "stream",
          "name": "stdout",
          "text": [
            "True\n"
          ]
        },
        {
          "output_type": "error",
          "ename": "TypeError",
          "evalue": "ignored",
          "traceback": [
            "\u001b[0;31m---------------------------------------------------------------------------\u001b[0m",
            "\u001b[0;31mTypeError\u001b[0m                                 Traceback (most recent call last)",
            "\u001b[0;32m<ipython-input-8-326eb993de55>\u001b[0m in \u001b[0;36m<cell line: 1>\u001b[0;34m()\u001b[0m\n\u001b[1;32m      9\u001b[0m     \u001b[0;32massert\u001b[0m \u001b[0mbagging_regressor\u001b[0m\u001b[0;34m.\u001b[0m\u001b[0moob\u001b[0m\u001b[0;34m,\u001b[0m \u001b[0;34m'OOB feature must be turned on'\u001b[0m\u001b[0;34m\u001b[0m\u001b[0;34m\u001b[0m\u001b[0m\n\u001b[1;32m     10\u001b[0m     \u001b[0moob_score\u001b[0m \u001b[0;34m=\u001b[0m \u001b[0mbagging_regressor\u001b[0m\u001b[0;34m.\u001b[0m\u001b[0mOOB_score\u001b[0m\u001b[0;34m(\u001b[0m\u001b[0;34m)\u001b[0m\u001b[0;34m\u001b[0m\u001b[0;34m\u001b[0m\u001b[0m\n\u001b[0;32m---> 11\u001b[0;31m     \u001b[0;32massert\u001b[0m \u001b[0moob_score\u001b[0m \u001b[0;34m<\u001b[0m \u001b[0;36m1e-6\u001b[0m\u001b[0;34m,\u001b[0m \u001b[0;34m'OOB error for linear dependency should be also close to zero!'\u001b[0m\u001b[0;34m\u001b[0m\u001b[0;34m\u001b[0m\u001b[0m\n\u001b[0m\u001b[1;32m     12\u001b[0m     assert abs(\n\u001b[1;32m     13\u001b[0m         np.mean(\n",
            "\u001b[0;31mTypeError\u001b[0m: '<' not supported between instances of 'NoneType' and 'float'"
          ]
        }
      ],
      "source": [
        "for _ in tqdm(range(100)):\n",
        "    X = np.random.randn(2000, 10)\n",
        "    y = np.mean(X, axis=1)\n",
        "    bagging_regressor = SimplifiedBaggingRegressor(num_bags=10, oob=True)\n",
        "    bagging_regressor.fit(LinearRegression, X, y)\n",
        "    predictions = bagging_regressor.predict(X)\n",
        "    assert np.mean((predictions - y)**2) < 1e-6, 'Linear dependency should be fitted with almost zero error!'\n",
        "    print(np.mean((predictions - y)**2) < 1e-6)\n",
        "    assert bagging_regressor.oob, 'OOB feature must be turned on'\n",
        "    oob_score = bagging_regressor.OOB_score()\n",
        "    assert oob_score < 1e-6, 'OOB error for linear dependency should be also close to zero!'\n",
        "    assert abs(\n",
        "        np.mean(\n",
        "            list(map(len, bagging_regressor.list_of_predictions_lists))\n",
        "        ) / bagging_regressor.num_bags - 1/np.exp(1)) < 0.1, 'Probability of missing a bag should be close to theoretical value!'\n",
        "\n",
        "print('Simple tests done!')"
      ]
    },
    {
      "cell_type": "markdown",
      "id": "4be4d037",
      "metadata": {
        "id": "4be4d037"
      },
      "source": [
        "#### Medium tests"
      ]
    },
    {
      "cell_type": "code",
      "execution_count": null,
      "id": "0cfd3a21",
      "metadata": {
        "id": "0cfd3a21"
      },
      "outputs": [],
      "source": [
        "for _ in tqdm(range(10)):\n",
        "    X = np.random.randn(200, 150)\n",
        "    y = np.random.randn(len(X))\n",
        "    bagging_regressor = SimplifiedBaggingRegressor(num_bags=20, oob=True)\n",
        "    bagging_regressor.fit(LinearRegression, X, y)\n",
        "    predictions = bagging_regressor.predict(X)\n",
        "    average_train_error = np.mean((predictions - y)**2)\n",
        "    assert bagging_regressor.oob, 'OOB feature must be turned on'\n",
        "    oob_score = bagging_regressor.OOB_score()\n",
        "    assert oob_score > average_train_error, 'OOB error must be higher than train error due to overfitting!'\n",
        "    assert abs(\n",
        "        np.mean(\n",
        "            list(map(len, bagging_regressor.list_of_predictions_lists))\n",
        "        ) / bagging_regressor.num_bags - 1/np.exp(1)) < 0.1, 'Probability of missing a bag should be close to theoretical value!'\n",
        "\n",
        "print('Medium tests done!')"
      ]
    },
    {
      "cell_type": "markdown",
      "id": "725818ff",
      "metadata": {
        "id": "725818ff"
      },
      "source": [
        "#### Complex tests:"
      ]
    },
    {
      "cell_type": "code",
      "execution_count": null,
      "id": "8f929d6b",
      "metadata": {
        "id": "8f929d6b"
      },
      "outputs": [],
      "source": [
        "for _ in tqdm(range(10)):\n",
        "    X = np.random.randn(2000, 15)\n",
        "    y = np.random.randn(len(X))\n",
        "    bagging_regressor = SimplifiedBaggingRegressor(num_bags=100, oob=True)\n",
        "    bagging_regressor.fit(LinearRegression, X, y)\n",
        "    predictions = bagging_regressor.predict(X)\n",
        "    oob_score = bagging_regressor.OOB_score()\n",
        "    assert abs(\n",
        "        np.mean(\n",
        "            list(map(len, bagging_regressor.list_of_predictions_lists))\n",
        "        ) / bagging_regressor.num_bags - 1/np.exp(1)) < 1e-2, 'Probability of missing a bag should be close to theoretical value!'\n",
        "\n",
        "print('Complex tests done!')"
      ]
    },
    {
      "cell_type": "code",
      "execution_count": null,
      "id": "af170ef8",
      "metadata": {
        "id": "af170ef8"
      },
      "outputs": [],
      "source": [
        "np.mean(\n",
        "            list(map(len, bagging_regressor.list_of_predictions_lists))\n",
        "        ) / bagging_regressor.num_bags - 1/np.exp(1)"
      ]
    },
    {
      "cell_type": "markdown",
      "id": "9535cb6d",
      "metadata": {
        "id": "9535cb6d"
      },
      "source": [
        "Great job! Please, save `SimplifiedBaggingRegressor` to  `bagging.py` and submit your solution to the grading system!"
      ]
    }
  ],
  "metadata": {
    "kernelspec": {
      "display_name": "Py3 Research",
      "language": "python",
      "name": "py3_research"
    },
    "language_info": {
      "codemirror_mode": {
        "name": "ipython",
        "version": 3
      },
      "file_extension": ".py",
      "mimetype": "text/x-python",
      "name": "python",
      "nbconvert_exporter": "python",
      "pygments_lexer": "ipython3",
      "version": "3.9.16"
    },
    "colab": {
      "provenance": [],
      "include_colab_link": true
    },
    "widgets": {
      "application/vnd.jupyter.widget-state+json": {
        "8002570be0e44e0e89964ba0bdaf9a23": {
          "model_module": "@jupyter-widgets/controls",
          "model_name": "HBoxModel",
          "model_module_version": "1.5.0",
          "state": {
            "_dom_classes": [],
            "_model_module": "@jupyter-widgets/controls",
            "_model_module_version": "1.5.0",
            "_model_name": "HBoxModel",
            "_view_count": null,
            "_view_module": "@jupyter-widgets/controls",
            "_view_module_version": "1.5.0",
            "_view_name": "HBoxView",
            "box_style": "",
            "children": [
              "IPY_MODEL_ec1689b39b214248888ef4189426d1f7",
              "IPY_MODEL_a1d607fdf63b46bbb3c6936989f5ae14",
              "IPY_MODEL_f0cd1f32c4bb4b1b80971821d5e6f3d8"
            ],
            "layout": "IPY_MODEL_61f5f5b6911e4486bee313e47bc4934b"
          }
        },
        "ec1689b39b214248888ef4189426d1f7": {
          "model_module": "@jupyter-widgets/controls",
          "model_name": "HTMLModel",
          "model_module_version": "1.5.0",
          "state": {
            "_dom_classes": [],
            "_model_module": "@jupyter-widgets/controls",
            "_model_module_version": "1.5.0",
            "_model_name": "HTMLModel",
            "_view_count": null,
            "_view_module": "@jupyter-widgets/controls",
            "_view_module_version": "1.5.0",
            "_view_name": "HTMLView",
            "description": "",
            "description_tooltip": null,
            "layout": "IPY_MODEL_97101e3e709d48b48324c14b83c0f6ae",
            "placeholder": "​",
            "style": "IPY_MODEL_88996036b34a48a98a27bd3d7b25f635",
            "value": "  0%"
          }
        },
        "a1d607fdf63b46bbb3c6936989f5ae14": {
          "model_module": "@jupyter-widgets/controls",
          "model_name": "FloatProgressModel",
          "model_module_version": "1.5.0",
          "state": {
            "_dom_classes": [],
            "_model_module": "@jupyter-widgets/controls",
            "_model_module_version": "1.5.0",
            "_model_name": "FloatProgressModel",
            "_view_count": null,
            "_view_module": "@jupyter-widgets/controls",
            "_view_module_version": "1.5.0",
            "_view_name": "ProgressView",
            "bar_style": "danger",
            "description": "",
            "description_tooltip": null,
            "layout": "IPY_MODEL_acc3b75b0ed24742b19072ed0a32ce2c",
            "max": 100,
            "min": 0,
            "orientation": "horizontal",
            "style": "IPY_MODEL_2ea36914497e4d96b8d277ff0a0321e8",
            "value": 0
          }
        },
        "f0cd1f32c4bb4b1b80971821d5e6f3d8": {
          "model_module": "@jupyter-widgets/controls",
          "model_name": "HTMLModel",
          "model_module_version": "1.5.0",
          "state": {
            "_dom_classes": [],
            "_model_module": "@jupyter-widgets/controls",
            "_model_module_version": "1.5.0",
            "_model_name": "HTMLModel",
            "_view_count": null,
            "_view_module": "@jupyter-widgets/controls",
            "_view_module_version": "1.5.0",
            "_view_name": "HTMLView",
            "description": "",
            "description_tooltip": null,
            "layout": "IPY_MODEL_b3882c69bbb045fdb6a2b909275da11c",
            "placeholder": "​",
            "style": "IPY_MODEL_f3e78b09ed2a4719a78b33669ba562e2",
            "value": " 0/100 [00:00&lt;?, ?it/s]"
          }
        },
        "61f5f5b6911e4486bee313e47bc4934b": {
          "model_module": "@jupyter-widgets/base",
          "model_name": "LayoutModel",
          "model_module_version": "1.2.0",
          "state": {
            "_model_module": "@jupyter-widgets/base",
            "_model_module_version": "1.2.0",
            "_model_name": "LayoutModel",
            "_view_count": null,
            "_view_module": "@jupyter-widgets/base",
            "_view_module_version": "1.2.0",
            "_view_name": "LayoutView",
            "align_content": null,
            "align_items": null,
            "align_self": null,
            "border": null,
            "bottom": null,
            "display": null,
            "flex": null,
            "flex_flow": null,
            "grid_area": null,
            "grid_auto_columns": null,
            "grid_auto_flow": null,
            "grid_auto_rows": null,
            "grid_column": null,
            "grid_gap": null,
            "grid_row": null,
            "grid_template_areas": null,
            "grid_template_columns": null,
            "grid_template_rows": null,
            "height": null,
            "justify_content": null,
            "justify_items": null,
            "left": null,
            "margin": null,
            "max_height": null,
            "max_width": null,
            "min_height": null,
            "min_width": null,
            "object_fit": null,
            "object_position": null,
            "order": null,
            "overflow": null,
            "overflow_x": null,
            "overflow_y": null,
            "padding": null,
            "right": null,
            "top": null,
            "visibility": null,
            "width": null
          }
        },
        "97101e3e709d48b48324c14b83c0f6ae": {
          "model_module": "@jupyter-widgets/base",
          "model_name": "LayoutModel",
          "model_module_version": "1.2.0",
          "state": {
            "_model_module": "@jupyter-widgets/base",
            "_model_module_version": "1.2.0",
            "_model_name": "LayoutModel",
            "_view_count": null,
            "_view_module": "@jupyter-widgets/base",
            "_view_module_version": "1.2.0",
            "_view_name": "LayoutView",
            "align_content": null,
            "align_items": null,
            "align_self": null,
            "border": null,
            "bottom": null,
            "display": null,
            "flex": null,
            "flex_flow": null,
            "grid_area": null,
            "grid_auto_columns": null,
            "grid_auto_flow": null,
            "grid_auto_rows": null,
            "grid_column": null,
            "grid_gap": null,
            "grid_row": null,
            "grid_template_areas": null,
            "grid_template_columns": null,
            "grid_template_rows": null,
            "height": null,
            "justify_content": null,
            "justify_items": null,
            "left": null,
            "margin": null,
            "max_height": null,
            "max_width": null,
            "min_height": null,
            "min_width": null,
            "object_fit": null,
            "object_position": null,
            "order": null,
            "overflow": null,
            "overflow_x": null,
            "overflow_y": null,
            "padding": null,
            "right": null,
            "top": null,
            "visibility": null,
            "width": null
          }
        },
        "88996036b34a48a98a27bd3d7b25f635": {
          "model_module": "@jupyter-widgets/controls",
          "model_name": "DescriptionStyleModel",
          "model_module_version": "1.5.0",
          "state": {
            "_model_module": "@jupyter-widgets/controls",
            "_model_module_version": "1.5.0",
            "_model_name": "DescriptionStyleModel",
            "_view_count": null,
            "_view_module": "@jupyter-widgets/base",
            "_view_module_version": "1.2.0",
            "_view_name": "StyleView",
            "description_width": ""
          }
        },
        "acc3b75b0ed24742b19072ed0a32ce2c": {
          "model_module": "@jupyter-widgets/base",
          "model_name": "LayoutModel",
          "model_module_version": "1.2.0",
          "state": {
            "_model_module": "@jupyter-widgets/base",
            "_model_module_version": "1.2.0",
            "_model_name": "LayoutModel",
            "_view_count": null,
            "_view_module": "@jupyter-widgets/base",
            "_view_module_version": "1.2.0",
            "_view_name": "LayoutView",
            "align_content": null,
            "align_items": null,
            "align_self": null,
            "border": null,
            "bottom": null,
            "display": null,
            "flex": null,
            "flex_flow": null,
            "grid_area": null,
            "grid_auto_columns": null,
            "grid_auto_flow": null,
            "grid_auto_rows": null,
            "grid_column": null,
            "grid_gap": null,
            "grid_row": null,
            "grid_template_areas": null,
            "grid_template_columns": null,
            "grid_template_rows": null,
            "height": null,
            "justify_content": null,
            "justify_items": null,
            "left": null,
            "margin": null,
            "max_height": null,
            "max_width": null,
            "min_height": null,
            "min_width": null,
            "object_fit": null,
            "object_position": null,
            "order": null,
            "overflow": null,
            "overflow_x": null,
            "overflow_y": null,
            "padding": null,
            "right": null,
            "top": null,
            "visibility": null,
            "width": null
          }
        },
        "2ea36914497e4d96b8d277ff0a0321e8": {
          "model_module": "@jupyter-widgets/controls",
          "model_name": "ProgressStyleModel",
          "model_module_version": "1.5.0",
          "state": {
            "_model_module": "@jupyter-widgets/controls",
            "_model_module_version": "1.5.0",
            "_model_name": "ProgressStyleModel",
            "_view_count": null,
            "_view_module": "@jupyter-widgets/base",
            "_view_module_version": "1.2.0",
            "_view_name": "StyleView",
            "bar_color": null,
            "description_width": ""
          }
        },
        "b3882c69bbb045fdb6a2b909275da11c": {
          "model_module": "@jupyter-widgets/base",
          "model_name": "LayoutModel",
          "model_module_version": "1.2.0",
          "state": {
            "_model_module": "@jupyter-widgets/base",
            "_model_module_version": "1.2.0",
            "_model_name": "LayoutModel",
            "_view_count": null,
            "_view_module": "@jupyter-widgets/base",
            "_view_module_version": "1.2.0",
            "_view_name": "LayoutView",
            "align_content": null,
            "align_items": null,
            "align_self": null,
            "border": null,
            "bottom": null,
            "display": null,
            "flex": null,
            "flex_flow": null,
            "grid_area": null,
            "grid_auto_columns": null,
            "grid_auto_flow": null,
            "grid_auto_rows": null,
            "grid_column": null,
            "grid_gap": null,
            "grid_row": null,
            "grid_template_areas": null,
            "grid_template_columns": null,
            "grid_template_rows": null,
            "height": null,
            "justify_content": null,
            "justify_items": null,
            "left": null,
            "margin": null,
            "max_height": null,
            "max_width": null,
            "min_height": null,
            "min_width": null,
            "object_fit": null,
            "object_position": null,
            "order": null,
            "overflow": null,
            "overflow_x": null,
            "overflow_y": null,
            "padding": null,
            "right": null,
            "top": null,
            "visibility": null,
            "width": null
          }
        },
        "f3e78b09ed2a4719a78b33669ba562e2": {
          "model_module": "@jupyter-widgets/controls",
          "model_name": "DescriptionStyleModel",
          "model_module_version": "1.5.0",
          "state": {
            "_model_module": "@jupyter-widgets/controls",
            "_model_module_version": "1.5.0",
            "_model_name": "DescriptionStyleModel",
            "_view_count": null,
            "_view_module": "@jupyter-widgets/base",
            "_view_module_version": "1.2.0",
            "_view_name": "StyleView",
            "description_width": ""
          }
        }
      }
    }
  },
  "nbformat": 4,
  "nbformat_minor": 5
}